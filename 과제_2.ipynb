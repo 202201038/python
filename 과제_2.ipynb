{
  "nbformat": 4,
  "nbformat_minor": 0,
  "metadata": {
    "colab": {
      "provenance": [],
      "collapsed_sections": [],
      "authorship_tag": "ABX9TyMVXEPiap316zjqVTEjkqkM",
      "include_colab_link": true
    },
    "kernelspec": {
      "name": "python3",
      "display_name": "Python 3"
    },
    "language_info": {
      "name": "python"
    }
  },
  "cells": [
    {
      "cell_type": "markdown",
      "metadata": {
        "id": "view-in-github",
        "colab_type": "text"
      },
      "source": [
        "<a href=\"https://colab.research.google.com/github/202201038/python/blob/main/%EA%B3%BC%EC%A0%9C_2.ipynb\" target=\"_parent\"><img src=\"https://colab.research.google.com/assets/colab-badge.svg\" alt=\"Open In Colab\"/></a>"
      ]
    },
    {
      "cell_type": "code",
      "execution_count": null,
      "metadata": {
        "id": "ySnmhFbHfSea"
      },
      "outputs": [],
      "source": [
        "#과제 2 - 1 :  202201038 김최준식\n",
        "\n",
        "x = int(input('자연수 한 개를입력하세요.'))\n",
        "\n",
        "list = [x]\n",
        " \n",
        "while len(list) < 100:\n",
        "    y = int(input('계속입력을 원하시면, 자연수 한 개를입력하시고, 아니라면 0을입력하세요.'))\n",
        "   \n",
        "    if y==0 :\n",
        "        break\n",
        "    \n",
        "    else :\n",
        "        list.append(y)\n",
        "\n",
        "if len(list) == 100:    \n",
        "    print('이제그만하세요. 벌써 100개를 입력했어요.')\n",
        "\n",
        "for i in range(len(list)) :\n",
        "    min_index = i\n",
        "    for j in range(i+1, len(list)) :\n",
        "        if list[min_index] < list[j]:\n",
        "            min_index = j\n",
        "    list[i], list[min_index] = list[min_index], list[i]\n",
        "    a = str(list)[1:-1]\n",
        "\n",
        "print('당신이 입력한 숫자는 큰 것부터 순서대로 말한다면 아래와 같습니다.', a)"
      ]
    },
    {
      "cell_type": "code",
      "source": [
        "#과제 2 - 2 : 202201038 김최준식\n",
        "\n",
        "x = int(input())\n",
        "\n",
        "i = 1\n",
        "\n",
        "if x<=30 :\n",
        "    while (i <= x) :\n",
        "        print('*'*(i-1), end = '')\n",
        "        print(i)\n",
        "        i += 1\n",
        "else :\n",
        "    print('너무 많다.')"
      ],
      "metadata": {
        "id": "c22PV1UwhDH9",
        "colab": {
          "base_uri": "https://localhost:8080/"
        },
        "outputId": "4f5fafb6-b035-4aab-f941-2c67238a8fb7"
      },
      "execution_count": null,
      "outputs": [
        {
          "output_type": "stream",
          "name": "stdout",
          "text": [
            "6\n",
            "1\n",
            "*2\n",
            "**3\n",
            "***4\n",
            "****5\n",
            "*****6\n"
          ]
        }
      ]
    },
    {
      "cell_type": "code",
      "source": [
        "#과제 2 - 2 : 202201038 김최준식\n",
        "\n",
        "x = int(input())\n",
        "\n",
        "i = 1\n",
        "\n",
        "if x<=30 :\n",
        "    while (i <= x) :\n",
        "        print('*'*(i-1), end = '')\n",
        "        print(i)\n",
        "        i += 1\n",
        "else :\n",
        "    print('너무 많다.')"
      ],
      "metadata": {
        "colab": {
          "base_uri": "https://localhost:8080/"
        },
        "id": "8n9ega8nQd2o",
        "outputId": "9d490e7a-1a42-4a6f-ad79-0ac74ccb95ca"
      },
      "execution_count": null,
      "outputs": [
        {
          "output_type": "stream",
          "name": "stdout",
          "text": [
            "31\n",
            "너무 많다.\n"
          ]
        }
      ]
    }
  ]
}