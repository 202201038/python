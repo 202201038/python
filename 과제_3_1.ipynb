{
  "nbformat": 4,
  "nbformat_minor": 0,
  "metadata": {
    "colab": {
      "provenance": [],
      "collapsed_sections": [],
      "authorship_tag": "ABX9TyOMVD/iw4uoc/yN5tFvmL2E",
      "include_colab_link": true
    },
    "kernelspec": {
      "name": "python3",
      "display_name": "Python 3"
    },
    "language_info": {
      "name": "python"
    }
  },
  "cells": [
    {
      "cell_type": "markdown",
      "metadata": {
        "id": "view-in-github",
        "colab_type": "text"
      },
      "source": [
        "<a href=\"https://colab.research.google.com/github/202201038/python/blob/main/%EA%B3%BC%EC%A0%9C_3_1.ipynb\" target=\"_parent\"><img src=\"https://colab.research.google.com/assets/colab-badge.svg\" alt=\"Open In Colab\"/></a>"
      ]
    },
    {
      "cell_type": "code",
      "execution_count": null,
      "metadata": {
        "id": "Oc9LrhxJgOMH",
        "colab": {
          "base_uri": "https://localhost:8080/"
        },
        "outputId": "a9974019-5709-4ead-c96a-9953bbb94b8f"
      },
      "outputs": [
        {
          "output_type": "stream",
          "name": "stdout",
          "text": [
            "자연수를 입력하세요,4\n",
            "자연수를 입력하세요,4\n",
            "4와 4는 같은 숫자이다.\n"
          ]
        }
      ],
      "source": [
        "x=int(input('자연수를 입력하세요,'))\n",
        "\n",
        "y=int(input('자연수를 입력하세요,'))\n",
        "\n",
        "def f(a,b):\n",
        "    if b%a==0 :\n",
        "        return 1\n",
        "    \n",
        "    else :\n",
        "        return 0\n",
        "\n",
        "if f(x,y)==f(y,x)==1 : \n",
        "    print('{0}와 {1}는 같은 숫자이다.'.format(x,y))\n",
        "\n",
        "elif f(x,y)==1 :\n",
        "    print('{0}는 {1}의 약수이지만, {1}가 아니다.'.format(x,y))\n",
        "elif f(y,x)==1 :\n",
        "    print('{0}는 {1}의 약수이지만, {1}가 아니다.'.format(y,x))\n",
        "else :\n",
        "    print('{0}와 {1}는 서로의 약수가 아니다.'.format(x,y))"
      ]
    },
    {
      "cell_type": "code",
      "execution_count": null,
      "metadata": {
        "colab": {
          "base_uri": "https://localhost:8080/"
        },
        "outputId": "e1cdd96d-cbdf-4a7c-a394-3ee3cf34a6e1",
        "id": "b6lJDafM9HYk"
      },
      "outputs": [
        {
          "output_type": "stream",
          "name": "stdout",
          "text": [
            "자연수를 입력하세요,4\n",
            "자연수를 입력하세요,8\n",
            "4는 8의 약수이지만, 8가 아니다.\n"
          ]
        }
      ],
      "source": [
        "x=int(input('자연수를 입력하세요,'))\n",
        "\n",
        "y=int(input('자연수를 입력하세요,'))\n",
        "\n",
        "def f(a,b):\n",
        "    if b%a==0 :\n",
        "        return 1\n",
        "    \n",
        "    else :\n",
        "        return 0\n",
        "\n",
        "if f(x,y)==f(y,x)==1 : \n",
        "    print('{0}와 {1}는 같은 숫자이다.'.format(x,y))\n",
        "\n",
        "elif f(x,y)==1 :\n",
        "    print('{0}는 {1}의 약수이지만, {1}가 아니다.'.format(x,y))\n",
        "elif f(y,x)==1 :\n",
        "    print('{0}는 {1}의 약수이지만, {1}가 아니다.'.format(y,x))\n",
        "else :\n",
        "    print('{0}와 {1}는 서로의 약수가 아니다.'.format(x,y))"
      ]
    },
    {
      "cell_type": "code",
      "execution_count": null,
      "metadata": {
        "colab": {
          "base_uri": "https://localhost:8080/"
        },
        "outputId": "5de89f7a-aa3e-4dae-f687-bb3986ab62c7",
        "id": "T6h4_DQa9FX5"
      },
      "outputs": [
        {
          "output_type": "stream",
          "name": "stdout",
          "text": [
            "자연수를 입력하세요,16\n",
            "자연수를 입력하세요,4\n",
            "4는 16의 약수이지만, 16가 아니다.\n"
          ]
        }
      ],
      "source": [
        "x=int(input('자연수를 입력하세요,'))\n",
        "\n",
        "y=int(input('자연수를 입력하세요,'))\n",
        "\n",
        "def f(a,b):\n",
        "    if b%a==0 :\n",
        "        return 1\n",
        "    \n",
        "    else :\n",
        "        return 0\n",
        "\n",
        "if f(x,y)==f(y,x)==1 : \n",
        "    print('{0}와 {1}는 같은 숫자이다.'.format(x,y))\n",
        "\n",
        "elif f(x,y)==1 :\n",
        "    print('{0}는 {1}의 약수이지만, {1}가 아니다.'.format(x,y))\n",
        "elif f(y,x)==1 :\n",
        "    print('{0}는 {1}의 약수이지만, {1}가 아니다.'.format(y,x))\n",
        "else :\n",
        "    print('{0}와 {1}는 서로의 약수가 아니다.'.format(x,y))"
      ]
    },
    {
      "cell_type": "code",
      "execution_count": null,
      "metadata": {
        "colab": {
          "base_uri": "https://localhost:8080/"
        },
        "outputId": "a84ce011-75ef-4655-b7c6-2a4a32768ab5",
        "id": "GIj-hU9V9EN8"
      },
      "outputs": [
        {
          "output_type": "stream",
          "name": "stdout",
          "text": [
            "자연수를 입력하세요,4\n",
            "자연수를 입력하세요,7\n",
            "4와 7는 서로의 약수가 아니다.\n"
          ]
        }
      ],
      "source": [
        "x=int(input('자연수를 입력하세요,'))\n",
        "\n",
        "y=int(input('자연수를 입력하세요,'))\n",
        "\n",
        "def f(a,b):\n",
        "    if b%a==0 :\n",
        "        return 1\n",
        "    \n",
        "    else :\n",
        "        return 0\n",
        "\n",
        "if f(x,y)==f(y,x)==1 : \n",
        "    print('{0}와 {1}는 같은 숫자이다.'.format(x,y))\n",
        "\n",
        "elif f(x,y)==1 :\n",
        "    print('{0}는 {1}의 약수이지만, {1}가 아니다.'.format(x,y))\n",
        "elif f(y,x)==1 :\n",
        "    print('{0}는 {1}의 약수이지만, {1}가 아니다.'.format(y,x))\n",
        "else :\n",
        "    print('{0}와 {1}는 서로의 약수가 아니다.'.format(x,y))"
      ]
    }
  ]
}